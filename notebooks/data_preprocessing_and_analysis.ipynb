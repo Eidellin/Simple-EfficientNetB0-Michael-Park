{
 "cells": [
  {
   "cell_type": "code",
   "execution_count": 1,
   "id": "73c301d5",
   "metadata": {},
   "outputs": [],
   "source": [
    "import os\n",
    "import torch\n",
    "import torchvision\n",
    "import torchvision.transforms as transforms"
   ]
  },
  {
   "cell_type": "markdown",
   "id": "04f8db2d",
   "metadata": {},
   "source": [
    "Change the name of image files as `image_id_*id*.jpg` to `*id*.jpg`."
   ]
  },
  {
   "cell_type": "markdown",
   "id": "c114a946",
   "metadata": {},
   "source": [
    "Initial Setting"
   ]
  },
  {
   "cell_type": "code",
   "execution_count": null,
   "id": "4b1ce5f7",
   "metadata": {},
   "outputs": [],
   "source": [
    "# \"\"\"\n",
    "# move 'train_annotations' file to 'train' folder and rename to 'annotations'\n",
    "# move 'valid_annotations' file to 'valid' folder and rename to 'annotations'\n",
    "# move images in 'train' folder to 'train/images' folder\n",
    "# move images in 'valid' folder to 'valid/images' folder\n",
    "# \"\"\"\n",
    "# # Create a folder named \"images\" in both train and valid directories\n",
    "# os.makedirs('../data/train/images', exist_ok=True)\n",
    "# os.makedirs('../data/valid/images', exist_ok=True)\n",
    "\n",
    "# # Move and rename annotation files\n",
    "# os.rename('../data/train_annotations', '../data/train/annotations')\n",
    "# os.rename('../data/valid_annotations', '../data/valid/annotations')\n",
    "\n",
    "# # Move images to 'images' subfolders\n",
    "# for fname in os.listdir('../data/train'):\n",
    "#     if fname.endswith('.jpg'):\n",
    "#         os.rename(f'../data/train/{fname}', f'../data/train/images/{fname}')\n",
    "\n",
    "# for fname in os.listdir('../data/valid'):\n",
    "#     if fname.endswith('.jpg'):\n",
    "#         os.rename(f'../data/valid/{fname}', f'../data/valid/images/{fname}')"
   ]
  },
  {
   "cell_type": "code",
   "execution_count": null,
   "id": "562de578",
   "metadata": {},
   "outputs": [],
   "source": [
    "# # Rename training images\n",
    "# for f in range(0, 500):\n",
    "#     os.rename(f'./train/images/image_id_{f:03d}.jpg', f'./train/{f}.jpg')\n",
    "\n",
    "# # Rename validation images\n",
    "# for f in range(0, 72):\n",
    "#     os.rename(f'./valid/images/image_id_{f:03d}.jpg', f'./valid/{f}.jpg')"
   ]
  },
  {
   "cell_type": "markdown",
   "id": "274e6a29",
   "metadata": {},
   "source": [
    "# Compute the mean and the standard deviation of the image dataset\n",
    "\n",
    "[How to](https://www.youtube.com/watch?v=z3kB3ISIPAg)"
   ]
  },
  {
   "cell_type": "code",
   "execution_count": 2,
   "id": "a756ad6a",
   "metadata": {},
   "outputs": [],
   "source": [
    "training_dataset_path = './data/train'\n",
    "training_transforms = transforms.Compose([\n",
    "    transforms.Resize((224, 224)), # Image resizing: 224 x 224 x 3\n",
    "    transforms.ToTensor(),\n",
    "])"
   ]
  },
  {
   "cell_type": "code",
   "execution_count": 3,
   "id": "66e2fb72",
   "metadata": {},
   "outputs": [],
   "source": [
    "train_dataset = torchvision.datasets.ImageFolder(root=training_dataset_path, transform=training_transforms)\n",
    "train_loader = torch.utils.data.DataLoader(train_dataset, batch_size=32, shuffle=False)"
   ]
  },
  {
   "cell_type": "code",
   "execution_count": 4,
   "id": "10b40c96",
   "metadata": {},
   "outputs": [
    {
     "data": {
      "text/plain": [
       "['images']"
      ]
     },
     "execution_count": 4,
     "metadata": {},
     "output_type": "execute_result"
    }
   ],
   "source": [
    "train_loader.dataset.classes"
   ]
  },
  {
   "cell_type": "code",
   "execution_count": 5,
   "id": "6aac7dbe",
   "metadata": {},
   "outputs": [],
   "source": [
    "def get_mean_and_std(loader):\n",
    "    mean = 0.\n",
    "    std = 0.\n",
    "    total_images_count = 0\n",
    "    for images, _ in loader:\n",
    "        image_count_in_a_batch = images.size(0)\n",
    "        images = images.view(image_count_in_a_batch, images.size(1), -1)\n",
    "        mean += images.mean(dim=2).sum(dim=0)\n",
    "        std += images.std(dim=2).sum(dim=0)\n",
    "        total_images_count += image_count_in_a_batch\n",
    "    mean /= total_images_count\n",
    "    std /= total_images_count\n",
    "    return mean, std"
   ]
  },
  {
   "cell_type": "code",
   "execution_count": 6,
   "id": "7ed8e61d",
   "metadata": {},
   "outputs": [
    {
     "data": {
      "text/plain": [
       "(tensor([0.6012, 0.6324, 0.6453]), tensor([0.2472, 0.2300, 0.2304]))"
      ]
     },
     "execution_count": 6,
     "metadata": {},
     "output_type": "execute_result"
    }
   ],
   "source": [
    "get_mean_and_std(train_loader)"
   ]
  }
 ],
 "metadata": {
  "kernelspec": {
   "display_name": "base",
   "language": "python",
   "name": "python3"
  },
  "language_info": {
   "codemirror_mode": {
    "name": "ipython",
    "version": 3
   },
   "file_extension": ".py",
   "mimetype": "text/x-python",
   "name": "python",
   "nbconvert_exporter": "python",
   "pygments_lexer": "ipython3",
   "version": "3.11.5"
  }
 },
 "nbformat": 4,
 "nbformat_minor": 5
}
